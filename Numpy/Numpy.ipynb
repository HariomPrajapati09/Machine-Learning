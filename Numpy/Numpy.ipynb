{
  "nbformat": 4,
  "nbformat_minor": 0,
  "metadata": {
    "colab": {
      "provenance": [],
      "authorship_tag": "ABX9TyO1vslk7fxFYGiIL9+7qJ4U",
      "include_colab_link": true
    },
    "kernelspec": {
      "name": "python3",
      "display_name": "Python 3"
    },
    "language_info": {
      "name": "python"
    }
  },
  "cells": [
    {
      "cell_type": "markdown",
      "metadata": {
        "id": "view-in-github",
        "colab_type": "text"
      },
      "source": [
        "<a href=\"https://colab.research.google.com/github/HariomPrajapati09/Machine-Learning/blob/main/Numpy.ipynb\" target=\"_parent\"><img src=\"https://colab.research.google.com/assets/colab-badge.svg\" alt=\"Open In Colab\"/></a>"
      ]
    },
    {
      "cell_type": "markdown",
      "source": [
        "***NumPy - Numerical Python***\n",
        "\n",
        "Advantages of NumPy Arrays:\n",
        "  1. Allows several Mathematical Operations.\n",
        "  2. Faster operations\n"
      ],
      "metadata": {
        "id": "V7BpTb1hVbin"
      }
    },
    {
      "cell_type": "code",
      "source": [
        "import numpy as np"
      ],
      "metadata": {
        "id": "L1cOKCt2WAyM"
      },
      "execution_count": null,
      "outputs": []
    },
    {
      "cell_type": "markdown",
      "source": [
        "***List v/s Numpy - time taken***"
      ],
      "metadata": {
        "id": "fdfZukHPXELh"
      }
    },
    {
      "cell_type": "code",
      "source": [
        "from time import process_time"
      ],
      "metadata": {
        "id": "qPXVQGfqXOgE"
      },
      "execution_count": null,
      "outputs": []
    },
    {
      "cell_type": "markdown",
      "source": [
        "**Time taken by a list**"
      ],
      "metadata": {
        "id": "hlcInE50Xflk"
      }
    },
    {
      "cell_type": "code",
      "source": [
        "py_list=[ 1 for i in range(10000)]\n",
        "start_time=process_time()\n",
        "py_list=[i*5 for i in py_list]\n",
        "end_time=process_time()\n",
        "print(end_time-start_time)"
      ],
      "metadata": {
        "colab": {
          "base_uri": "https://localhost:8080/"
        },
        "id": "bPCySp9vXphg",
        "outputId": "12bb6cd1-ce56-48ed-d022-bb1f7fa7b1e4"
      },
      "execution_count": null,
      "outputs": [
        {
          "output_type": "stream",
          "name": "stdout",
          "text": [
            "0.0009671630000003262\n"
          ]
        }
      ]
    },
    {
      "cell_type": "markdown",
      "source": [
        "**Time taken by a Numpy**"
      ],
      "metadata": {
        "id": "1O_tffg8YrhQ"
      }
    },
    {
      "cell_type": "code",
      "source": [
        "np_array=np.array([i for i in range(10000)])\n",
        "start_time=process_time()\n",
        "np_array +=5\n",
        "end_time=process_time()\n",
        "print(end_time-start_time)"
      ],
      "metadata": {
        "colab": {
          "base_uri": "https://localhost:8080/"
        },
        "id": "scnORm9JY1Y0",
        "outputId": "d1569fe4-2238-4c1d-cad6-3d789210b11a"
      },
      "execution_count": null,
      "outputs": [
        {
          "output_type": "stream",
          "name": "stdout",
          "text": [
            "0.0001567879999999633\n"
          ]
        }
      ]
    },
    {
      "cell_type": "markdown",
      "source": [
        "***Numpy Arrays***"
      ],
      "metadata": {
        "id": "F_eA7MHjZmTw"
      }
    },
    {
      "cell_type": "code",
      "source": [
        "#List\n",
        "list1=[1,2,3,4,5]\n",
        "print(list1)\n",
        "type(list1)"
      ],
      "metadata": {
        "colab": {
          "base_uri": "https://localhost:8080/"
        },
        "id": "idWl83JUZrVc",
        "outputId": "e858e47f-fee2-4499-e2c5-09793582b3d9"
      },
      "execution_count": null,
      "outputs": [
        {
          "output_type": "stream",
          "name": "stdout",
          "text": [
            "[1, 2, 3, 4, 5]\n"
          ]
        },
        {
          "output_type": "execute_result",
          "data": {
            "text/plain": [
              "list"
            ]
          },
          "metadata": {},
          "execution_count": 12
        }
      ]
    },
    {
      "cell_type": "code",
      "source": [
        "#Numpy\n",
        "np_array=np.array([1,2,3,4,5])\n",
        "print(np_array)\n",
        "type(np_array)"
      ],
      "metadata": {
        "colab": {
          "base_uri": "https://localhost:8080/"
        },
        "id": "rg3q0alHZ9EW",
        "outputId": "6c03e78f-c774-4950-b8d8-33b63fc1647b"
      },
      "execution_count": null,
      "outputs": [
        {
          "output_type": "stream",
          "name": "stdout",
          "text": [
            "[1 2 3 4 5]\n"
          ]
        },
        {
          "output_type": "execute_result",
          "data": {
            "text/plain": [
              "numpy.ndarray"
            ]
          },
          "metadata": {},
          "execution_count": 13
        }
      ]
    },
    {
      "cell_type": "code",
      "source": [
        "#Creating a 1D array\n",
        "a=np.array([1,2,3,4,5])\n",
        "print(a)\n",
        "a.shape #Output represent the no. of columns"
      ],
      "metadata": {
        "colab": {
          "base_uri": "https://localhost:8080/"
        },
        "id": "8Y4KsU7Za2BW",
        "outputId": "8e2551d3-0455-44ae-fe3e-67198c22dd75"
      },
      "execution_count": null,
      "outputs": [
        {
          "output_type": "stream",
          "name": "stdout",
          "text": [
            "[1 2 3 4 5]\n"
          ]
        },
        {
          "output_type": "execute_result",
          "data": {
            "text/plain": [
              "(5,)"
            ]
          },
          "metadata": {},
          "execution_count": 19
        }
      ]
    },
    {
      "cell_type": "code",
      "source": [
        "#Creating a 2D array\n",
        "b=np.array([(1,2,3),(1,3,5)])\n",
        "print(b)\n",
        "b.shape #Output represent the no. of rows and columns"
      ],
      "metadata": {
        "colab": {
          "base_uri": "https://localhost:8080/"
        },
        "id": "epH7RV_zbFYW",
        "outputId": "b9fb6bd7-67b9-441b-c7f9-613d3e7ee53f"
      },
      "execution_count": null,
      "outputs": [
        {
          "output_type": "stream",
          "name": "stdout",
          "text": [
            "[[1 2 3]\n",
            " [1 3 5]]\n"
          ]
        },
        {
          "output_type": "execute_result",
          "data": {
            "text/plain": [
              "(2, 3)"
            ]
          },
          "metadata": {},
          "execution_count": 21
        }
      ]
    },
    {
      "cell_type": "code",
      "source": [
        "c=np.array([(1,2,3),(1,3,5)],dtype=float) #dtype represent the data types\n",
        "print(c)"
      ],
      "metadata": {
        "colab": {
          "base_uri": "https://localhost:8080/"
        },
        "id": "fol5yahRcGfq",
        "outputId": "17a8ca7b-e79c-4d4a-b9a5-9618b0a1901c"
      },
      "execution_count": null,
      "outputs": [
        {
          "output_type": "stream",
          "name": "stdout",
          "text": [
            "[[1. 2. 3.]\n",
            " [1. 3. 5.]]\n"
          ]
        }
      ]
    },
    {
      "cell_type": "markdown",
      "source": [
        "***Initial place holder in NumPy arrays***"
      ],
      "metadata": {
        "id": "2169o91bcaB-"
      }
    },
    {
      "cell_type": "code",
      "source": [
        "x=np.zeros((4,5)) #For all values Zeros\n",
        "print(\"FOR ALL VALUES ZEROS\")\n",
        "print(x)"
      ],
      "metadata": {
        "colab": {
          "base_uri": "https://localhost:8080/"
        },
        "id": "vexs_yC4ceiD",
        "outputId": "31340acd-0881-4e8f-eefa-546691b050c3"
      },
      "execution_count": null,
      "outputs": [
        {
          "output_type": "stream",
          "name": "stdout",
          "text": [
            "FOR ALL VALUES ZEROS\n",
            "[[0. 0. 0. 0. 0.]\n",
            " [0. 0. 0. 0. 0.]\n",
            " [0. 0. 0. 0. 0.]\n",
            " [0. 0. 0. 0. 0.]]\n"
          ]
        }
      ]
    },
    {
      "cell_type": "code",
      "source": [
        "y=np.ones((3,3)) #For all values Ones\n",
        "print(\"FOR ALL VALUES ONES\")\n",
        "print(y)"
      ],
      "metadata": {
        "colab": {
          "base_uri": "https://localhost:8080/"
        },
        "id": "uL6gxu5IeTsW",
        "outputId": "079f4042-e10d-4c0f-fbbd-76d343ef8e9b"
      },
      "execution_count": null,
      "outputs": [
        {
          "output_type": "stream",
          "name": "stdout",
          "text": [
            "FOR ALL VALUES ONES\n",
            "[[1. 1. 1.]\n",
            " [1. 1. 1.]\n",
            " [1. 1. 1.]]\n"
          ]
        }
      ]
    },
    {
      "cell_type": "code",
      "source": [
        "z=np.full((2,3),4) #For all values according to us\n",
        "print(\"FOR ALL VALUES ACCORDING TO US\")\n",
        "print(z)\n"
      ],
      "metadata": {
        "colab": {
          "base_uri": "https://localhost:8080/"
        },
        "id": "yNfFPRpdei9b",
        "outputId": "9566d7fa-5e77-487a-9951-b4559e77d600"
      },
      "execution_count": null,
      "outputs": [
        {
          "output_type": "stream",
          "name": "stdout",
          "text": [
            "FOR ALL VALUES ACCORDING TO US\n",
            "[[4 4 4]\n",
            " [4 4 4]]\n"
          ]
        }
      ]
    },
    {
      "cell_type": "code",
      "source": [
        "a=np.eye(4) #For identity matrix\n",
        "print(\"FOR IDENTITY MATRIX\")\n",
        "print(a)"
      ],
      "metadata": {
        "colab": {
          "base_uri": "https://localhost:8080/"
        },
        "id": "EfOWV1ONeoVA",
        "outputId": "7829d32f-90f6-4401-a94d-6be4370d3833"
      },
      "execution_count": null,
      "outputs": [
        {
          "output_type": "stream",
          "name": "stdout",
          "text": [
            "FOR IDENTITY MATRIX\n",
            "[[1. 0. 0. 0.]\n",
            " [0. 1. 0. 0.]\n",
            " [0. 0. 1. 0.]\n",
            " [0. 0. 0. 1.]]\n"
          ]
        }
      ]
    },
    {
      "cell_type": "code",
      "source": [
        "#Creating a numpy array with random values\n",
        "b=np.random.random((3,4))\n",
        "print(b)"
      ],
      "metadata": {
        "colab": {
          "base_uri": "https://localhost:8080/"
        },
        "id": "taS87LqmfW5w",
        "outputId": "c88a5827-9e7d-4744-88de-912974810b34"
      },
      "execution_count": null,
      "outputs": [
        {
          "output_type": "stream",
          "name": "stdout",
          "text": [
            "[[0.11908902 0.52566311 0.19604515 0.24086881]\n",
            " [0.86736606 0.96929734 0.23966379 0.40801349]\n",
            " [0.17716704 0.8638865  0.68785301 0.35100144]]\n"
          ]
        }
      ]
    },
    {
      "cell_type": "code",
      "source": [
        "#Creating a numpy array with random values in specific range\n",
        "c=np.random.randint(10,100,(3,4))\n",
        "print(c)"
      ],
      "metadata": {
        "colab": {
          "base_uri": "https://localhost:8080/"
        },
        "id": "rX_QJJwgf1HE",
        "outputId": "1878ee0b-3bc0-4c48-e296-b2b880a23910"
      },
      "execution_count": null,
      "outputs": [
        {
          "output_type": "stream",
          "name": "stdout",
          "text": [
            "[[11 11 68 18]\n",
            " [91 17 69 16]\n",
            " [15 51 57 30]]\n"
          ]
        }
      ]
    },
    {
      "cell_type": "code",
      "source": [
        "#Creating a numpy array for evenly spaced value\n",
        "#Specifying the number of values required\n",
        "d=np.linspace(10,30,6)\n",
        "print(d)"
      ],
      "metadata": {
        "colab": {
          "base_uri": "https://localhost:8080/"
        },
        "id": "qHmx8vOJht3H",
        "outputId": "6e1acbd8-04c6-4b32-be3b-c11329ab2ee3"
      },
      "execution_count": null,
      "outputs": [
        {
          "output_type": "stream",
          "name": "stdout",
          "text": [
            "[10. 14. 18. 22. 26. 30.]\n"
          ]
        }
      ]
    },
    {
      "cell_type": "code",
      "source": [
        "#Creating a numpy array for evenly spaced value\n",
        "#Specifying the step\n",
        "e=np.arange(10,40,5)\n",
        "print(e)"
      ],
      "metadata": {
        "colab": {
          "base_uri": "https://localhost:8080/"
        },
        "id": "9ihP9KOtiJ6o",
        "outputId": "678d882a-bdd2-47f6-fd67-78427b27ae87"
      },
      "execution_count": null,
      "outputs": [
        {
          "output_type": "stream",
          "name": "stdout",
          "text": [
            "[10 15 20 25 30 35]\n"
          ]
        }
      ]
    },
    {
      "cell_type": "code",
      "source": [
        "#Converting a List into an numpy array\n",
        "list2=[12,13,23,14]\n",
        "np_arr=np.asarray(list2)\n",
        "print(np_arr)\n",
        "type(np_arr)"
      ],
      "metadata": {
        "colab": {
          "base_uri": "https://localhost:8080/"
        },
        "id": "d9drZPciixQN",
        "outputId": "107a04f9-25df-4108-d526-f5be2d436d5d"
      },
      "execution_count": null,
      "outputs": [
        {
          "output_type": "stream",
          "name": "stdout",
          "text": [
            "[12 13 23 14]\n"
          ]
        },
        {
          "output_type": "execute_result",
          "data": {
            "text/plain": [
              "numpy.ndarray"
            ]
          },
          "metadata": {},
          "execution_count": 44
        }
      ]
    },
    {
      "cell_type": "markdown",
      "source": [
        "***Analysing a numpy array***"
      ],
      "metadata": {
        "id": "qRDI9SXgjvC5"
      }
    },
    {
      "cell_type": "code",
      "source": [
        "c=np.random.randint(10,90,(5,5))\n",
        "print(c)"
      ],
      "metadata": {
        "colab": {
          "base_uri": "https://localhost:8080/"
        },
        "id": "PbC_R3lej4nI",
        "outputId": "4d8680eb-bb3e-4830-905b-ce841f5a640d"
      },
      "execution_count": null,
      "outputs": [
        {
          "output_type": "stream",
          "name": "stdout",
          "text": [
            "[[32 34 25 37 49]\n",
            " [72 82 57 23 24]\n",
            " [37 85 31 73 72]\n",
            " [37 21 64 32 69]\n",
            " [86 57 20 19 28]]\n"
          ]
        }
      ]
    },
    {
      "cell_type": "code",
      "source": [
        "#Check no. of rows and columns\n",
        "print(c.shape)"
      ],
      "metadata": {
        "colab": {
          "base_uri": "https://localhost:8080/"
        },
        "id": "sGwetz3GkM5B",
        "outputId": "f6e12b8e-b9c1-44d5-b348-2457bc4fdcc6"
      },
      "execution_count": null,
      "outputs": [
        {
          "output_type": "stream",
          "name": "stdout",
          "text": [
            "(5, 5)\n"
          ]
        }
      ]
    },
    {
      "cell_type": "code",
      "source": [
        "#Check the dimention of array\n",
        "print(c.ndim)"
      ],
      "metadata": {
        "colab": {
          "base_uri": "https://localhost:8080/"
        },
        "id": "EF874dvtkV9K",
        "outputId": "7842b13d-c04c-4504-e1ef-6c1b7800dbbd"
      },
      "execution_count": null,
      "outputs": [
        {
          "output_type": "stream",
          "name": "stdout",
          "text": [
            "2\n"
          ]
        }
      ]
    },
    {
      "cell_type": "code",
      "source": [
        "#Checking the no. of elements in array\n",
        "print(c.size)"
      ],
      "metadata": {
        "colab": {
          "base_uri": "https://localhost:8080/"
        },
        "id": "lHTZiC20khMV",
        "outputId": "af0edaa7-e8c1-4cb0-98ba-f37761df643d"
      },
      "execution_count": null,
      "outputs": [
        {
          "output_type": "stream",
          "name": "stdout",
          "text": [
            "25\n"
          ]
        }
      ]
    },
    {
      "cell_type": "code",
      "source": [
        "#Checking the datatype of array\n",
        "print(c.dtype)"
      ],
      "metadata": {
        "colab": {
          "base_uri": "https://localhost:8080/"
        },
        "id": "-oRt30FVk2cL",
        "outputId": "80ebb9e9-3c25-440d-812c-f641f84c58c5"
      },
      "execution_count": null,
      "outputs": [
        {
          "output_type": "stream",
          "name": "stdout",
          "text": [
            "int64\n"
          ]
        }
      ]
    },
    {
      "cell_type": "markdown",
      "source": [
        "***Mathematical Operation on a numpy array***"
      ],
      "metadata": {
        "id": "Qe9DCJnllQJ8"
      }
    },
    {
      "cell_type": "code",
      "source": [
        "a=np.random.randint(0,10,(3,3))\n",
        "b=np.random.randint(10,20,(3,3))\n",
        "print(a)\n",
        "print(b)"
      ],
      "metadata": {
        "colab": {
          "base_uri": "https://localhost:8080/"
        },
        "id": "qrVaRWtnlaPs",
        "outputId": "2a08ef3e-a697-48f4-ac7c-613aa227f0df"
      },
      "execution_count": null,
      "outputs": [
        {
          "output_type": "stream",
          "name": "stdout",
          "text": [
            "[[5 0 2]\n",
            " [3 0 2]\n",
            " [2 8 0]]\n",
            "[[16 18 10]\n",
            " [17 11 13]\n",
            " [13 17 12]]\n"
          ]
        }
      ]
    },
    {
      "cell_type": "code",
      "source": [
        "print(a+b)"
      ],
      "metadata": {
        "colab": {
          "base_uri": "https://localhost:8080/"
        },
        "id": "Dq7oZjH_l47J",
        "outputId": "6cfb4955-fe2c-4541-d42d-3ccfaad9fdc0"
      },
      "execution_count": null,
      "outputs": [
        {
          "output_type": "stream",
          "name": "stdout",
          "text": [
            "[[21 18 12]\n",
            " [20 11 15]\n",
            " [15 25 12]]\n"
          ]
        }
      ]
    },
    {
      "cell_type": "code",
      "source": [
        "print(a*b)"
      ],
      "metadata": {
        "colab": {
          "base_uri": "https://localhost:8080/"
        },
        "id": "8T_Nsbmql9g3",
        "outputId": "95e51e2d-c851-4992-d648-518f49942edb"
      },
      "execution_count": null,
      "outputs": [
        {
          "output_type": "stream",
          "name": "stdout",
          "text": [
            "[[ 80   0  20]\n",
            " [ 51   0  26]\n",
            " [ 26 136   0]]\n"
          ]
        }
      ]
    },
    {
      "cell_type": "code",
      "source": [
        "print(a-b)"
      ],
      "metadata": {
        "colab": {
          "base_uri": "https://localhost:8080/"
        },
        "id": "Naork_b7mALM",
        "outputId": "4a17ad1c-6a58-4c1f-ca77-c366ac4633e6"
      },
      "execution_count": null,
      "outputs": [
        {
          "output_type": "stream",
          "name": "stdout",
          "text": [
            "[[-11 -18  -8]\n",
            " [-14 -11 -11]\n",
            " [-11  -9 -12]]\n"
          ]
        }
      ]
    },
    {
      "cell_type": "code",
      "source": [
        "print(a/b)"
      ],
      "metadata": {
        "colab": {
          "base_uri": "https://localhost:8080/"
        },
        "id": "sn22T89fmCxH",
        "outputId": "1f4c656d-375e-4cd2-899c-a779176bf003"
      },
      "execution_count": null,
      "outputs": [
        {
          "output_type": "stream",
          "name": "stdout",
          "text": [
            "[[0.3125     0.         0.2       ]\n",
            " [0.17647059 0.         0.15384615]\n",
            " [0.15384615 0.47058824 0.        ]]\n"
          ]
        }
      ]
    },
    {
      "cell_type": "code",
      "source": [
        "#Another way to perform add sub mult and div\n",
        "print(np.add(a,b))\n",
        "print(np.subtract(a,b))\n",
        "print(np.multiply(a,b))\n",
        "print(np.divide(a,b))"
      ],
      "metadata": {
        "colab": {
          "base_uri": "https://localhost:8080/"
        },
        "id": "MK0EVPPWmGHP",
        "outputId": "9973f0e6-b53a-4d6c-e8cc-d0c9267b292d"
      },
      "execution_count": null,
      "outputs": [
        {
          "output_type": "stream",
          "name": "stdout",
          "text": [
            "[[21 18 12]\n",
            " [20 11 15]\n",
            " [15 25 12]]\n",
            "[[-11 -18  -8]\n",
            " [-14 -11 -11]\n",
            " [-11  -9 -12]]\n",
            "[[ 80   0  20]\n",
            " [ 51   0  26]\n",
            " [ 26 136   0]]\n",
            "[[0.3125     0.         0.2       ]\n",
            " [0.17647059 0.         0.15384615]\n",
            " [0.15384615 0.47058824 0.        ]]\n"
          ]
        }
      ]
    },
    {
      "cell_type": "markdown",
      "source": [
        "***Array Manipulation***"
      ],
      "metadata": {
        "id": "jTb-WA0dnHY1"
      }
    },
    {
      "cell_type": "code",
      "source": [
        "array=np.random.randint(0,10,(2,3))\n",
        "print(array)\n",
        "print(array.shape)"
      ],
      "metadata": {
        "colab": {
          "base_uri": "https://localhost:8080/"
        },
        "id": "FB5ppHi-nNlv",
        "outputId": "a784f7c4-9067-4a4d-9ea3-c80499194867"
      },
      "execution_count": null,
      "outputs": [
        {
          "output_type": "stream",
          "name": "stdout",
          "text": [
            "[[5 5 9]\n",
            " [9 4 1]]\n",
            "(2, 3)\n"
          ]
        }
      ]
    },
    {
      "cell_type": "code",
      "source": [
        "#Transpose of matrix\n",
        "trans=np.transpose(array)\n",
        "print(trans)\n",
        "print(trans.shape)"
      ],
      "metadata": {
        "colab": {
          "base_uri": "https://localhost:8080/"
        },
        "id": "Ux-J2aY0nYvf",
        "outputId": "d9c2cdf4-b8eb-4049-81f6-e4a1297f0e57"
      },
      "execution_count": null,
      "outputs": [
        {
          "output_type": "stream",
          "name": "stdout",
          "text": [
            "[[5 9]\n",
            " [5 4]\n",
            " [9 1]]\n",
            "(3, 2)\n"
          ]
        }
      ]
    },
    {
      "cell_type": "code",
      "source": [
        "#Another way to transpose of matrix\n",
        "trans1=array.T\n",
        "print(trans1)"
      ],
      "metadata": {
        "colab": {
          "base_uri": "https://localhost:8080/"
        },
        "id": "Dnt6GDklnzWK",
        "outputId": "3c1238ac-6f85-415c-dbca-a71e8de4317b"
      },
      "execution_count": null,
      "outputs": [
        {
          "output_type": "stream",
          "name": "stdout",
          "text": [
            "[[5 9]\n",
            " [5 4]\n",
            " [9 1]]\n"
          ]
        }
      ]
    },
    {
      "cell_type": "code",
      "source": [
        "#REshape of array\n",
        "a=np.random.randint(0,10,(2,3))\n",
        "print(a)\n",
        "print(a.shape)\n",
        "print()\n",
        "b=a.reshape(3,2)\n",
        "print(b)\n",
        "print(b.shape)"
      ],
      "metadata": {
        "colab": {
          "base_uri": "https://localhost:8080/"
        },
        "id": "nppAIJ-5oNAf",
        "outputId": "7fc5d826-98bc-4f80-f543-bf9ac2fae971"
      },
      "execution_count": null,
      "outputs": [
        {
          "output_type": "stream",
          "name": "stdout",
          "text": [
            "[[9 3 0]\n",
            " [0 2 5]]\n",
            "(2, 3)\n",
            "\n",
            "[[9 3]\n",
            " [0 0]\n",
            " [2 5]]\n",
            "(3, 2)\n"
          ]
        }
      ]
    }
  ]
}